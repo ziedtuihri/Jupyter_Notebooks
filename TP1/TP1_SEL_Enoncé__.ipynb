{
 "cells": [
  {
   "cell_type": "markdown",
   "metadata": {
    "id": "mGJe67LhV8ow"
   },
   "source": [
    "# TP1 : Résolution numérique de systèmes d'équations linéaires"
   ]
  },
  {
   "cell_type": "markdown",
   "metadata": {
    "id": "jLpLCyFBV8o5"
   },
   "source": [
    "## 1. Introduction:"
   ]
  },
  {
   "cell_type": "markdown",
   "metadata": {
    "id": "OaOopW50V8o6"
   },
   "source": [
    "## 1.1. Objectif \n",
    "L'objectif de ce TP est de pouvoir programmer les algorithmes de deux méthodes itératives pour la résolution des Systèmes d'Equations Linéaires (SEL). Ces deux méthodes sont la méthode de ***Jacobi*** et la méthode de ***Gauss-Seidel***. On utilisera dans ce TP les bibliothèques ***numpy***  et ***matplotlib***. \n"
   ]
  },
  {
   "cell_type": "markdown",
   "metadata": {
    "id": "RFybEjyCV8o9"
   },
   "source": [
    "## 1.2. Rappel\n",
    "### 1.2.1. Méthodes de résolution d'un SEL\n",
    " On considère le SEL suivant: $$(S): \\left \\{\n",
    "\\begin{array}{c}\n",
    "a_{11}x_1+a_{12}x_2+\\ldots+a_{1n}x_n=b_1\\\\\n",
    "a_{21}x_1+a_{22}x_2+\\ldots+a_{2n}x_n=b_2\\\\\n",
    "\\vdots\\\\\n",
    "a_{n1}x_1+a_{n2}x_2+\\ldots+a_{nn}x_n=b_n\n",
    "\\end{array}\\right.$$ \n",
    "\n",
    "L'écriture matricielle de $(S)$ est donnée par $AX=b$, avec :  \n",
    "\n",
    " $$A = \\begin{bmatrix}\n",
    "  a_{11} & a_{12} & a_{13} & \\cdots & a_{1n}\\\\\n",
    "  a_{21} & a_{22} & a_{23} & \\cdots & a_{2n}\\\\\n",
    "  a_{31} & a_{32} & a_{33} & \\cdots & a_{3n}\\\\\n",
    "  \\vdots  & \\vdots  & \\vdots  & \\ddots & \\vdots \\\\\n",
    "  a_{n1} & a_{n2} & a_{n3} & \\cdots & a_{nn}\\\\\n",
    "\\end{bmatrix},  X = \\begin{bmatrix}\n",
    "  x_{1} \\\\\n",
    "  x_{2} \\\\\n",
    "  x_{3} \\\\\n",
    "  \\vdots \\\\\n",
    "  x_{n} \\\\\n",
    "\\end{bmatrix}, et\\;  b= \\begin{bmatrix}\n",
    "  b_{1} \\\\\n",
    "  b_{2} \\\\\n",
    "  b_{3} \\\\\n",
    "  \\vdots \\\\\n",
    "  b_{n} \\\\\n",
    "\\end{bmatrix}.$$\n",
    "\n",
    "Il existe deux catégories de méthodes pour la résolution du système $(S)$ :      \n",
    "\n",
    "- les méthodes directes : la solution $X$ est exacte, et donnée après un nombre d'opérations algorithmiques fixé en fonction de $n$, la taille de la matrice $A$.  \n",
    "\n",
    "Exemples : la méthode du pivot de Gauss, la décomposition LU, ...  \n",
    "\n",
    "- les méthodes itératives (ou indirectes) : la solution $X$ est approchée et elle est un terme d'une suite récurrente de vecteurs. Cette solution est donnée une fois qu'une condition d'arrêt imposée à l'algorithme, est satisfaite. \n",
    "\n",
    "Exemples : Jacobi, Gauss-Seidel, ...\n",
    "\n",
    "**Dans ce TP, on se limitera à implémenter les méthodes itératives de Jacobi et de Gauss-Seidel et on donnera quelques applications sur ces méthodes.**\n",
    " "
   ]
  },
  {
   "cell_type": "markdown",
   "metadata": {
    "id": "qkQ7yaYVV8pA"
   },
   "source": [
    "### 1.2.2. Méthodes itératives\n",
    "\n",
    "Les méthodes itératives pour la résolution d'un SEL consistent à avoir une suite récurrente de vecteurs qui converge vers la solution du SEL.   \n",
    "\n",
    "### Principe\n",
    "On suppose que le système linéaire $AX = b$ est de Cramer. Les méthodes itératives se basent sur une décomposition de $A$ sous la forme $A=M-N$ où $M$ est une matrice inversible. Une suite récurrente de solutions $X^{(k)}$, $k\\geq 0$, est ensuite génére comme suit :\n",
    "\\begin{cases}\n",
    "X^{(0)} \\in \\mathbb R^n \\text{ donné}\\\\\n",
    "\\hspace{8cm} (*)\\\\\n",
    "X^{(k+1)}=M^{-1}NX^{(k)}+M^{-1}b.\n",
    "\\end{cases}\n",
    " avec $X^{(0)}$ un vecteur initial.\n",
    "\n",
    "Cette suite converge, sous certaines conditions, vers la solution exacte $X$.\n",
    "\n",
    "Les méthodes itératives de Jacobi et de Gauss-Seidel pour résoudre $(S) : AX = b$, consistent en premier lieu\n",
    "à décomposer $A$ sous la forme :\n",
    "$$A=D-E-F,$$\n",
    "avec \n",
    "- $D$ : matrice diagonale dont les coefficients diagonaux sont ceux de la matrice $A$,\n",
    "- $E$ : matrice triangulaire inférieure dont les coefficients diagonaux sont nuls,\n",
    "- $F$ : matrice triangulaire supérieure dont les coefficients diagonaux sont nuls.\n",
    "\n",
    "Plus précisément, étant donnée une matrice $A=(a_{i,j})\\in M_n(\\mathbb R)$, \n",
    "$$A= \\underbrace{\\begin{pmatrix}\n",
    "a_{1,1}& 0 &\\cdots &0\\\\\n",
    "0&\\ddots&\\ddots&0 \\\\\n",
    "\\vdots&\\ddots&\\ddots &0 \\\\\n",
    "0&\\cdots& 0& a_{n,n}\n",
    "\\end{pmatrix}}_{D}-  \\underbrace{\\begin{pmatrix}\n",
    "0&\\cdots&\\cdots&0\\\\\n",
    "-a_{2,1}&\\ddots&& 0 \\\\\n",
    "\\vdots&\\ddots&\\ddots &0 \\\\\n",
    "-a_{n,1}&\\cdots&-a_{n,n-1}&0\n",
    "\\end{pmatrix}}_{E} -  \\underbrace{\\begin{pmatrix}\n",
    "0&-a_{1,2}&\\cdots& -a_{1,n}\\\\\n",
    "\\vdots &\\ddots&\\ddots& \\vdots \\\\\n",
    "\\vdots &&\\ddots&-a_{n-1,n} \\\\\n",
    "0&\\cdots&\\cdots&0\n",
    "\\end{pmatrix}}_{F}\n",
    "$$\n",
    "Dans $(*)$,\n",
    "- Pour un choix de $M=D$ et $N=E-F$, on obtient la suite générée par la méthode de ***Jacobi***.  \n",
    "\n",
    "- Pour un choix de $M=D-E$ et $N=F$, on obtient la suite générée par la méthode de ***Gauss-Seidel***.  \n",
    "\n",
    "### Convergence \n",
    "***Théorème:*** Si la matrice $A$ est à diagonale strictement dominante ***alors*** les méthodes de Jacobi et de Gauss-Seidel convergent quelque soit le choix du vecteur initial  $X^{(0)}$.\n",
    "\n",
    "### Critère d'arrêt\n",
    "Soit $A=(a_{i,j})_{1\\leq i,j\\leq n} \\in M_n(\\mathbb R)$ avec $a_{ii} \\neq 0$ pour tout $i=1,\\cdots ,n$. Soit $\\varepsilon$ une tolérance donnéee. Parmi les critères d’arrêt pour les méthodes itératives de Jacobi et Gauss-Seidel, on cite\n",
    "$$||AX^{(k)}-b|| \\leq \\varepsilon.$$\n",
    "\n"
   ]
  },
  {
   "cell_type": "markdown",
   "metadata": {
    "id": "Wtqoa_PlV8pC"
   },
   "source": [
    "## 2. Implémentation des méthodes itératives"
   ]
  },
  {
   "cell_type": "code",
   "execution_count": null,
   "metadata": {
    "id": "-1Ei7Zb5V8pF"
   },
   "outputs": [],
   "source": [
    "import numpy as np\n",
    "import matplotlib.pyplot as plt"
   ]
  },
  {
   "cell_type": "markdown",
   "metadata": {
    "id": "YLCx-PI4V8pJ"
   },
   "source": [
    "## 2.1. Matrice à diagonale strictement dominante"
   ]
  },
  {
   "cell_type": "markdown",
   "metadata": {
    "id": "1hJqQd0UV8pL"
   },
   "source": [
    "### Exercice 1:\n",
    "Ecrire une fonction `matrice_diag_dominante(A)` prenant en entrée $A$, une matrice carrée d'ordre $n$, qui vérifie si cette matrice est à diagonale strictement dominante (etat True) ou non (etat False)."
   ]
  },
  {
   "cell_type": "code",
   "execution_count": null,
   "metadata": {
    "id": "aBaEXTfdV8pd"
   },
   "outputs": [],
   "source": [
    "def matrice_diag_dominante(A):\n",
    "    \n",
    "    \n",
    "    \n",
    "    "
   ]
  },
  {
   "cell_type": "markdown",
   "metadata": {
    "id": "ScNZ5uPXV8pe"
   },
   "source": [
    "### Application 1: \n",
    "Tester la fonction `matrice_diag_dominante()` sur les deux matrices suivantes:\n",
    "$$A=\\begin{pmatrix}\n",
    "4 & -1 & -1 & 0 \\\\\n",
    "-1 & 4 &  0 & -1 \\\\\n",
    "-1 & 0 & 4 & -1 \\\\\n",
    "0 & -1 & -1 & 4\\\\\n",
    "\\end{pmatrix}\\ \\ \\ \\ \\ \\ \n",
    "B=\\begin{pmatrix}\n",
    "2 & -1 & -1 & 0 \\\\\n",
    "-1 & 2 &  0 & -1 \\\\\n",
    "-1 & 0 & 2 & -1 \\\\\n",
    "0 & -1 & -1 & 2\\\\\n",
    "\\end{pmatrix}$$"
   ]
  },
  {
   "cell_type": "code",
   "execution_count": null,
   "metadata": {},
   "outputs": [],
   "source": []
  },
  {
   "cell_type": "markdown",
   "metadata": {
    "id": "OGIBK4dyV8pj"
   },
   "source": [
    "**Remarque:** Pour déterminer la solution exacte d'un SEL $AX=b$, on peut utiliser la fonction pré-définie ***np.linalg.solve(A,b)***."
   ]
  },
  {
   "cell_type": "markdown",
   "metadata": {
    "id": "M8_Pj-LNV8pk"
   },
   "source": [
    "## 2.2. Méthode de Jacobi"
   ]
  },
  {
   "cell_type": "markdown",
   "metadata": {
    "id": "zqYcqKLRV8pl"
   },
   "source": [
    "### Exercice 2:\n",
    "1. Ecrire une fonction `jacobi(A, b, X0, epsilon)` prénant en entrée A, une matrice carrée d'ordre $n$, un vecteur $b$ le second membre, $X^{(0)}$ une condition initiale et $\\epsilon$ une tolérence donnée,  qui renvoie une solution approchée du SEL $AX=b$ par la  méthode de Jacobi.\\\n",
    "On testera au préalable si A est à diagonale strictement dominante, dans le cas contraire, on renverra  𝐴  n'est pas à diagonale strictement dominante.\n",
    "2. Tester la méthode de Jacobi sur le SEL $(S):~AX=b$, avec $b=\\begin{pmatrix}\n",
    "50 \\\\\n",
    "      30 \\\\\n",
    "      70 \\\\\n",
    "      50\\\\\n",
    "    \\end{pmatrix}$, $X^{(0)}=\\begin{pmatrix}\n",
    "  1 \\\\\n",
    "  1 \\\\\n",
    "  1 \\\\\n",
    "  1 \\\\\n",
    "\\end{pmatrix}$ et  $\\varepsilon=10^{-6}$. \n",
    "3. En utilisant la fonction ***np.linalg.solve(A,b)***, résoudre $(S)$.\n",
    "4. Interpréter le résultat.\n",
    "\n",
    "### Question (1) :"
   ]
  },
  {
   "cell_type": "markdown",
   "metadata": {
    "id": "D2EXpl_QV8pm"
   },
   "source": [
    "Le schéma itératif de la méthode de Jacobi est :\n",
    "> $A=D-E-F$\\\n",
    "> $M=D$ \\\n",
    "> $N=E+F$\\\n",
    "> Donner un vecteur initial $X^{(0)}$ et un réel $\\varepsilon$\\\n",
    ">   Tant que $\\|AX^{(k)}-b\\|>\\varepsilon$ faire\n",
    "> > $X^{(k+1)}=M^{−1}N X^{(k)}+M^{-1}b$\n",
    ">\n",
    "> Fin Tant que "
   ]
  },
  {
   "cell_type": "code",
   "execution_count": null,
   "metadata": {
    "id": "lGv7Ev4zV8px"
   },
   "outputs": [],
   "source": [
    "def jacobi(A, b, X0, epsilon):\n",
    "    etat=matrice_diag_dominante(A)\n",
    "    if ..................:\n",
    "        ............\n",
    "    else:\n",
    "        .........\n",
    "        .........\n",
    "        .........\n",
    "        while .........:\n",
    "            ......\n",
    "            ......\n",
    "            ......    \n",
    "        return ..."
   ]
  },
  {
   "cell_type": "markdown",
   "metadata": {
    "id": "Yb-3OwegV8pz"
   },
   "source": [
    "### Question (2) :"
   ]
  },
  {
   "cell_type": "code",
   "execution_count": null,
   "metadata": {},
   "outputs": [],
   "source": []
  },
  {
   "cell_type": "markdown",
   "metadata": {
    "id": "taHmffwzV8p1"
   },
   "source": [
    "### Question (3):"
   ]
  },
  {
   "cell_type": "code",
   "execution_count": null,
   "metadata": {},
   "outputs": [],
   "source": []
  },
  {
   "cell_type": "markdown",
   "metadata": {},
   "source": [
    "### Question (4):"
   ]
  },
  {
   "cell_type": "code",
   "execution_count": null,
   "metadata": {},
   "outputs": [],
   "source": []
  },
  {
   "cell_type": "markdown",
   "metadata": {
    "id": "iihem3ipV8p3"
   },
   "source": [
    "## 2.3. Méthode de Gauss-Seidel"
   ]
  },
  {
   "cell_type": "markdown",
   "metadata": {
    "id": "nqWEbWu7V8p3"
   },
   "source": [
    "### Exercice 3:\n",
    "1. Ecrire une fonction `Gauss_Seidel(A, b, X0, epsilon)` prénant en entrée A, une matrice carrée d'ordre $n$, un vecteur $b$ le second membre, $X^{(0)}$ une condition initiale et $\\varepsilon$ une tolérence donnée,  qui renvoie une solution approchée du SEL $AX=b$ par la  méthode de Gauss-Seidel.\\\n",
    "On testera au préalable si A est à diagonale strictement dominante, dans le cas contraire, on renverra  𝐴  n'est pas à diagonale strictement dominante.\n",
    "2. Tester la méthode de Gauss-Seidel sur le SEL $(S):~AX=b$, avec $A$ la matrice définie plus haut, $X^{(0)}=\\begin{pmatrix}\n",
    "  1 \\\\\n",
    "  1 \\\\\n",
    "  1 \\\\\n",
    "  1 \\\\\n",
    "\\end{pmatrix}$ et  $\\varepsilon=10^{-6}$. Interpréter le résultat.\n",
    "\n",
    "### Question (1) :"
   ]
  },
  {
   "cell_type": "markdown",
   "metadata": {
    "id": "IF8vkgjtV8p5"
   },
   "source": [
    "\n",
    "Le schéma itératif de la méthode de Gauss-Seidel est :\n",
    ">$A=D-E-F$\\\n",
    "> Donner un vecteur initial $X^{(0)}$ et un réel $\\varepsilon$\\\n",
    "> $M=D-E$\\\n",
    "> $N=F$\\\n",
    ">   Tant que $\\|AX^{(k)}-b\\|>\\varepsilon$ faire\n",
    "> > $X^{(k+1)}=M^{−1}N X^{(k)}+M^{-1}b$\n",
    ">\n",
    "> Fin Tant que "
   ]
  },
  {
   "cell_type": "code",
   "execution_count": null,
   "metadata": {
    "id": "9fwki2ciV8p6"
   },
   "outputs": [],
   "source": [
    "def gauss_seidel(A, b, X0, epsilon):\n",
    "    .........\n",
    "    .........\n",
    "    .........\n",
    "    "
   ]
  },
  {
   "cell_type": "markdown",
   "metadata": {
    "id": "7V4wi4BfV8p6"
   },
   "source": [
    "### Question (2) :"
   ]
  },
  {
   "cell_type": "code",
   "execution_count": null,
   "metadata": {},
   "outputs": [],
   "source": []
  },
  {
   "cell_type": "markdown",
   "metadata": {
    "id": "b00DXhnjV8p8"
   },
   "source": [
    "## 2.4. Application:"
   ]
  },
  {
   "cell_type": "markdown",
   "metadata": {
    "id": "QhCbsU6mV8p9"
   },
   "source": [
    "##### La condition \"$A$ est une matrice à diaonale strictement dominante\" est-elle nécessaire pour la convergence des méthodes de acobi et de Gauss-Seidel pour la résolution de $AX=b$?\n",
    "Soient $A_1$, $A_2$ et b les matrices suivantes:\n",
    "$$A_1=\\left(\n",
    " \\begin{array}{ccc}1&3&0&1\\\\\n",
    "1&1&4&-1\\\\\n",
    "0&1&3&-1\\\\\n",
    "1&2&3&-8\n",
    "\\end{array}\\right),\\quad  A_2=\\left(\n",
    " \\begin{array}{ccc}1&3&0&1\\\\\n",
    "1&7&4&-1\\\\\n",
    "0&1&3&-1\\\\\n",
    "1&2&3&-8\n",
    "\\end{array}\\right)\\quad \\mbox{et}\\quad b=\\left(\n",
    " \\begin{array}{ccc}1\\\\\n",
    "2\\\\\n",
    "3\\\\\n",
    "4\n",
    "\\end{array}\\right).\n",
    "$$\n",
    "\n",
    "1- Vérifier que chacun des systèmes d'équations linéaires $(S_1): A_1X=b$ et $(S_2): A_2X=b$ admet une unique solution dans $\\mathbb{R}^4$, puis utiliser la fonction **np.linalg.solve(A,b)** pour résoudre $(S_1)$ et $(S_2)$. \n",
    "\n",
    "2- Vérifier, en utilisant la fonction **matrice_diag_dominante(A)**, que $A_1$ et $A_2$ ne sont pas des matrices à diaonale strictement dominante.\n",
    "\n",
    "3- Ecrire deux fonctions **jacobi_sans_test(A,b,X0,epsilon)** et **gauss_seidel_sans_test(A,b,X0,epsilon)** prenant en entrée les matrices $A$, $b$, le vecteur initial $X0$ et la précision epsilon et retournant, respectivement, une solution approchée de $AX=b$ par la méthode de Jacobi et la méthode de Gauss-Seidel sans tester si $A$ est à diagonale strictement dominante.\n",
    "\n",
    "4- En utilisant ces deux fonctions, vérifier que les méthodes de Jacobi et de Gauss-Seidel ne sont pas convergentes pour la résolution de $(S_1)$ mais elles sont convergentes pour la résolution de $(S_2)$.\n",
    "\n",
    "5- Que peut-on conclure?\n"
   ]
  },
  {
   "cell_type": "markdown",
   "metadata": {
    "id": "flTDUoIoV8qJ"
   },
   "source": [
    "### Question (1):\n"
   ]
  },
  {
   "cell_type": "code",
   "execution_count": null,
   "metadata": {},
   "outputs": [],
   "source": [
    "A1=np.array([[1,3,0,1],[1,1,4,-1],[0,1,3,-1],[1,2,3,-8]])\n",
    "A2=np.array([[1,3,0,1],[1,7,4,-1],[0,1,3,-1],[1,2,3,-8]])\n",
    "b=np.array([[1],[2],[3],[4]])\n",
    "............................................\n",
    "............................................\n",
    "............................................\n",
    "............................................\n"
   ]
  },
  {
   "cell_type": "markdown",
   "metadata": {
    "id": "Mx4ltjmlV8qM"
   },
   "source": [
    "### Question (2):"
   ]
  },
  {
   "cell_type": "code",
   "execution_count": null,
   "metadata": {},
   "outputs": [],
   "source": []
  },
  {
   "cell_type": "markdown",
   "metadata": {
    "id": "OaX41nUFV8qP"
   },
   "source": [
    "### Question (3):"
   ]
  },
  {
   "cell_type": "code",
   "execution_count": null,
   "metadata": {
    "id": "0OhkEwqVV8qQ"
   },
   "outputs": [],
   "source": [
    "def jacobi_sans_test(A, b, X0, epsilon):\n",
    "    .........\n",
    "    .........\n",
    "    .........\n",
    "    \n",
    "def gauss_seidel_sans_test(A, b, X0, epsilon):\n",
    "    .........\n",
    "    .........\n",
    "    .........\n"
   ]
  },
  {
   "cell_type": "markdown",
   "metadata": {
    "id": "FeXgsxs_V8qR"
   },
   "source": [
    "### Question (4):"
   ]
  },
  {
   "cell_type": "code",
   "execution_count": null,
   "metadata": {},
   "outputs": [],
   "source": [
    "X0=np.array([[0],[0],[0],[0]])\n",
    "epsilon=10**(-6)\n",
    "\n",
    "\n",
    "\n",
    "\n"
   ]
  },
  {
   "cell_type": "markdown",
   "metadata": {
    "id": "Fcyks2WMV8qT"
   },
   "source": [
    "### Question (5):"
   ]
  },
  {
   "cell_type": "markdown",
   "metadata": {
    "id": "djWYKMbCV8qT"
   },
   "source": [
    "\n",
    "\n"
   ]
  },
  {
   "cell_type": "markdown",
   "metadata": {
    "id": "rVdNGQmkV8qU"
   },
   "source": [
    "### Exercice 3 : (En asynchrone)\n",
    "On considère le SEL $(S_n)$ :$AX=b$, avec \n",
    "$$A = \\begin{bmatrix}\n",
    "  8 & -1 & -1 & 0 & 0&\\cdots & 0\\\\\n",
    "  -1 & 8 & -1 & -1 & 0& \\cdots & 0\\\\\n",
    "  -1 & -1 & 8 & -1 & -1 & \\cdots & 0\\\\\n",
    "   &   & \\ddots  & \\ddots & \\ddots & &  \\\\\n",
    "    &   &   & \\ddots & \\ddots & \\ddots&  \\\\\n",
    "     &  &  & -1 & -1 & 8& -1 \\\\\n",
    "  0&\\cdots&\\cdots& 0 & -1 & -1 & 8\\\\\n",
    "\\end{bmatrix},  X = \\begin{bmatrix}\n",
    "  x_{1} \\\\\n",
    "  x_{2} \\\\\n",
    "  x_{3} \\\\\n",
    "  \\vdots \\\\\n",
    "  \\vdots \\\\\n",
    "  \\vdots \\\\\n",
    "  x_{n} \\\\\n",
    "\\end{bmatrix}, \\;  b= \\begin{bmatrix}\n",
    "  6 \\\\\n",
    "  5 \\\\\n",
    "  4 \\\\\n",
    "  \\vdots \\\\\n",
    "  4 \\\\\n",
    "  5 \\\\\n",
    "  6 \\\\\n",
    "\\end{bmatrix}, \\; et \\; n\\geq 5.$$\n",
    "\n",
    "1- Pour $\\varepsilon=10^{-6}$, représenter sur un même graphe, le nombre d'itérations effectuées pour atteindre la convergence par les deux méthodes itératives : Jacobi et Gauss-Seidel, en fonction de $n$ la taille de la matrice.  On considère $n\\in\\{5,10,15,20,25,30\\}$.\n",
    "\n",
    "\n",
    "2- Pour $n=20$, représenter sur un même graphe, le nombre d'itérations effectuées pour atteindre la convergence par les deux méthodes itératives : Jacobi et Gauss-Seidel, en fonction de la précision $\\varepsilon$.  On considère $\\varepsilon\\in\\{10^{-3},10^{-6},10^{-9},10^{-12}\\}$.\n",
    "\n",
    "On considère le vecteur nul comme vecteur initial.  \n",
    "\n",
    "Interpréter les résultats."
   ]
  },
  {
   "cell_type": "code",
   "execution_count": null,
   "metadata": {
    "id": "SNl_e4Q4V8qV"
   },
   "outputs": [],
   "source": [
    "def S_n(n):\n",
    "    A=8*np.eye(n)+np.diagflat(-np.ones(n-1),1)+np.diagflat(-np.ones(n-2),2)+np.diagflat(-np.ones(n-1),-1)+np.diagflat(-np.ones(n-2),-2)\n",
    "    b=4*np.ones((n,1))\n",
    "    [b[0,0], b[-1,0]]=[6,6]\n",
    "    [b[1,0], b[n-2,0]]=[5,5]\n",
    "    return A,b"
   ]
  },
  {
   "cell_type": "markdown",
   "metadata": {
    "id": "AC37tcj2V8qV"
   },
   "source": [
    "### Question (1):"
   ]
  },
  {
   "cell_type": "code",
   "execution_count": null,
   "metadata": {
    "id": "gtHCL0R5V8qV"
   },
   "outputs": [],
   "source": [
    "epsilon=10**(-6)\n",
    "N=np.arange(5,31,5)\n",
    "Iter_J=[]\n",
    "Iter_GS=[]\n",
    "for n in N:\n",
    "    .........\n",
    "    .........\n",
    "    .........\n",
    "    .........\n",
    "    \n",
    "    "
   ]
  },
  {
   "cell_type": "code",
   "execution_count": null,
   "metadata": {
    "id": "xa46vCWfV8qW",
    "outputId": "9a4c486a-b55d-457e-977f-6ed231fab4fc"
   },
   "outputs": [
    {
     "data": {
      "image/png": "[encoded data removed]",
      "text/plain": [
       "<Figure size 1296x720 with 1 Axes>"
      ]
     },
     "metadata": {
      "needs_background": "light"
     },
     "output_type": "display_data"
    }
   ],
   "source": [
    "plt.figure(figsize=(18,10))\n",
    "plt.plot(...,.....,'ro--',.....,.....,'b^--', linewidth=3,markersize=12) \n",
    "plt.xlabel('.................',fontsize=30)\n",
    "plt.ylabel('.................',fontsize=30)\n",
    "plt.legend(('................','...............'),fontsize=20, loc = 0) \n",
    "plt.grid(True)\n",
    "plt.savefig('Comparaison_n.png',format='png') "
   ]
  },
  {
   "cell_type": "markdown",
   "metadata": {
    "id": "OwzKiBvNV8qW"
   },
   "source": [
    "### Question (2):"
   ]
  },
  {
   "cell_type": "code",
   "execution_count": null,
   "metadata": {
    "id": "U52SRnNgV8qX"
   },
   "outputs": [],
   "source": [
    "n=20\n",
    "epsilon=[10**-3,10**-6,10**-9,10**-12]\n",
    "S=S_n(n)\n",
    "X0=np.zeros((n,1))\n",
    "Iter_J=[]\n",
    "Iter_GS=[]\n",
    "for eps in epsilon:\n",
    "     \n"
   ]
  },
  {
   "cell_type": "code",
   "execution_count": null,
   "metadata": {},
   "outputs": [],
   "source": [
    "plt.figure(figsize=(20,10))\n",
    "plt.plot(.....,.....,'ro--',......,......,'b^--', linewidth=3,markersize=12) \n",
    "plt.xscale('log')\n",
    "plt.xlabel('La précision',fontsize=30)\n",
    "plt.ylabel('Nombre d\\'itérations',fontsize=30)\n",
    "plt.legend(('Méthode de Jacobi','Méthode de Gauss-Seidel'),fontsize=20, loc = 0) \n",
    "plt.grid(True)\n",
    "plt.savefig('Comparaison_n.png',format='png') "
   ]
  },
  {
   "cell_type": "markdown",
   "metadata": {
    "id": "2l7eUF2JV8qZ"
   },
   "source": [
    "##### Références  \n",
    "\n",
    "[1] [Kiusalaas, J. (2013). Numerical methods in engineering with Python 3. Cambridge university press.](https://books.google.tn/books?hl=fr&lr=&id=YlkgAwAAQBAJ&oi=fnd&pg=PP10&dq=numerical+methods+in+engineering+&ots=-42y60OrWf&sig=wxL2oISNUKKPlvgH4-tsYh1RK9o&redir_esc=y#v=onepage&q=numerical%20methods%20in%20engineering&f=false)  \n",
    "[2] [Numpy Package](https://numpy.org/devdocs/user/quickstart.html)  \n",
    "[3] [Mathplotlib Package](https://matplotlib.org/tutorials/index.html#introductory)  \n",
    "[4] [Jupyter markdowns](http://faccanoni.univ-tln.fr/user/enseignements/20182019/M62-CM1.pdf)"
   ]
  },
  {
   "cell_type": "markdown",
   "metadata": {
    "id": "pQdS28tDV8qZ"
   },
   "source": [
    "# Compte rendu"
   ]
  },
  {
   "cell_type": "markdown",
   "metadata": {
    "id": "IiArvs1gV8qa"
   },
   "source": [
    "Pour $\\varepsilon\\in]\\frac{-1-\\sqrt 3}{2},\\frac{\\sqrt 3-1}{2}[$ et $n\\geq 3$ fixés, soit $A_{\\varepsilon}$ la matrice symétrique,\n",
    "de taille $n\\times n$, et pentadiagonale de motif $[\\varepsilon^2,\\varepsilon,1,\\varepsilon,\\varepsilon^2]$\n",
    "\n",
    "On considère le SEL $(S_n)$ :$A_{\\varepsilon}X=b$, avec \n",
    "$$A_{\\varepsilon} = \\begin{bmatrix}\n",
    "  1 &  \\varepsilon& \\varepsilon^2 & 0 & 0&\\cdots & 0\\\\\n",
    "   \\varepsilon& 1 & \\varepsilon & \\varepsilon^{2} & 0& \\cdots & 0\\\\\n",
    "  \\varepsilon^{2} & \\varepsilon & 1 & \\varepsilon & \\varepsilon^{2} & \\cdots & 0\\\\\n",
    "   &   & \\ddots  & \\ddots & \\ddots & &  \\\\\n",
    "    &   &   & \\ddots & \\ddots & \\ddots&  \\\\\n",
    "     &  &  & \\varepsilon^2 &  \\varepsilon& 1& \\varepsilon\\\\\n",
    "  0&\\cdots&\\cdots& 0 & \\varepsilon^2 & \\varepsilon & 1\\\\\n",
    "\\end{bmatrix},  X = \\begin{bmatrix}\n",
    "  x_{1} \\\\\n",
    "  x_{2} \\\\\n",
    "  x_{3} \\\\\n",
    "  \\vdots \\\\\n",
    "  \\vdots \\\\\n",
    "  \\vdots \\\\\n",
    "  x_{n} \\\\\n",
    "\\end{bmatrix}, \\;  b= \\begin{bmatrix}\n",
    "  b_1 \\\\\n",
    "  b_2 \\\\\n",
    "  b_3 \\\\\n",
    "  \\vdots \\\\\n",
    "  \\vdots \\\\\n",
    "  \\vdots \\\\\n",
    "  b_n \\\\\n",
    "\\end{bmatrix}, \\; et \\; n\\geq 3.$$\n",
    "\n",
    "\n",
    "\n",
    "\n",
    "\n",
    "\n",
    "\n"
   ]
  },
  {
   "cell_type": "markdown",
   "metadata": {
    "id": "uMCJpKGmV8qb"
   },
   "source": [
    "1. Pour $\\varepsilon =0.2$ et $n=10$. Ecrire la matrice $A_\\varepsilon $ ."
   ]
  },
  {
   "cell_type": "markdown",
   "metadata": {
    "id": "jyf4C2BmV8qd"
   },
   "source": [
    "2. Pour $\\varepsilon =0.2$ et $n=10$. Tester si la matrice $A_\\varepsilon $ est à diagonale strictement dominante ."
   ]
  },
  {
   "cell_type": "markdown",
   "metadata": {
    "id": "9ZmaUQRwV8qe"
   },
   "source": [
    "3. Ecrire les vecteurs $\\hat{x}=(1,1,....,1)\\in \\mathbb{R}^{n}$ et $b_{\\varepsilon}=A_{\\varepsilon}\\hat{x}$ ."
   ]
  },
  {
   "cell_type": "markdown",
   "metadata": {
    "id": "rHAwn3hEV8qh"
   },
   "source": [
    "4. Ecrire une fonction jacobi1 (A, b, X0, tol,nmax) prénant en entrée A, une matrice carrée d'ordre  𝑛 , un vecteur  𝑏  le second membre,  𝑋(0)  une condition initiale et  𝜖  une tolérence donnée, une borne supérieur nmax sur le nombre d'intération qui renvoie une solution approchée du SEL  𝐴𝑋=𝑏  par la méthode de Jacobi, en utilisant le shéma itératif ci-dessous."
   ]
  },
  {
   "cell_type": "markdown",
   "metadata": {
    "id": "HnH18AzpV8qh"
   },
   "source": [
    "### Rappel méthode de Jacobi"
   ]
  },
  {
   "cell_type": "markdown",
   "metadata": {
    "id": "4pICbYzKV8qh"
   },
   "source": [
    "Algorithme de Jacobi (Schéma itératif): Donner un vecteur initial $X^{(0)}$ et un réel $\\varepsilon$\n",
    ">   Tant que $\\|AX^{(K)}-b\\|>\\epsilon$ faire\n",
    "> >  Pour $i$ de $1$ à $n$ faire\n",
    "> > >  $$x^{(k+1)}_{i}=\\frac{1}{a_{ii}}\\big(b_{i}-\\underset{j\\neq i}{\\sum_{j=1}^n}a_{ij}x^{(k)}_{j}\\big)$$\n",
    "> >\n",
    "> >  Fin pour \n",
    ">\n",
    "> Fin Tant que "
   ]
  },
  {
   "cell_type": "markdown",
   "metadata": {
    "id": "YET-l3ClV8qj"
   },
   "source": [
    "5- Ecrire une fonction gauss_seidel1(A, b, X0, epsilon) prénant en entrée A, une matrice carrée d'ordre  𝑛 ,\n",
    "un vecteur  𝑏  le second membre,  𝑋(0)  une condition initiale et  𝜖  une tolérence donnée, qui renvoie une \n",
    "solution approchée du SEL  𝐴𝑋=𝑏  par la méthode de Gauss-Seidel, en utilisant le shéma itératif ci-dessous."
   ]
  },
  {
   "cell_type": "markdown",
   "metadata": {
    "id": "mRvD6jkmV8qs"
   },
   "source": [
    "Algorithme de Gauss Seidel(Schéma itératif): Donner un vecteur initial $X^{(0)}$ et un réel $\\varepsilon$\n",
    ">   Tant que $\\|AX^{(K)}-b\\|>\\varepsilon$ faire\n",
    "> > $$x^{(k+1)}_{1}=\\frac{1}{a_{11}}\\big(b_{1}-\\sum_{j=2}^n a_{1j}x^{(k)}_{j}\\big)$$\n",
    "> >  Pour $i$ de $2$ à $n-1$ faire\n",
    "> > >  $$x^{(k+1)}_{i}=\\frac{1}{a_{ii}}\\big(b_{i}-\\sum_{j=1}^{i-1}a_{ij}x^{(k+1)}_{j}-\\sum_{j=i+1}^{n}a_{ij}x^{(k)}_{j}\\big)$$\n",
    "> >\n",
    "> > Fin pour\n",
    "> >  $$x^{(k+1)}_{n}=\\frac{1}{a_{nn}}\\big(b_{n}-\\sum_{j=1}^{n-1} a_{1j}x^{(k+1)}_{j}\\big)$$\n",
    ">\n",
    "> Fin Tant que"
   ]
  },
  {
   "cell_type": "code",
   "execution_count": null,
   "metadata": {
    "id": "CEjuCilnV8qs"
   },
   "outputs": [],
   "source": []
  }
 ],
 "metadata": {
  "colab": {
   "name": "TP1 SEL_Corrigé .ipynb",
   "provenance": []
  },
  "kernelspec": {
   "display_name": "Python 3 (ipykernel)",
   "language": "python",
   "name": "python3"
  },
  "language_info": {
   "codemirror_mode": {
    "name": "ipython",
    "version": 3
   },
   "file_extension": ".py",
   "mimetype": "text/x-python",
   "name": "python",
   "nbconvert_exporter": "python",
   "pygments_lexer": "ipython3",
   "version": "3.9.12"
  }
 },
 "nbformat": 4,
 "nbformat_minor": 1
}
