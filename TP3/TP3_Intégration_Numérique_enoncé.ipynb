{
 "cells": [
  {
   "cell_type": "markdown",
   "metadata": {
    "id": "L3y7HIMg6Ten"
   },
   "source": [
    "# TP3 : Intégration numérique\n",
    "## Objectif   \n",
    "**L'objectif de ce TP est de :**\n",
    "- **Programmer certaines méthodes composites d'intégration numérique.**\n",
    "- **Comparer, visuellement et via les claculs, les valeurs approchées de l'intégrale d'une fonction $f$ continue sur $[a,b]\\subset\\mathbb{R}$ à celle exacte.**\n",
    "- **Etudier l'évolution de l'erreur d'intégration en fonction du nombre de points d'intégration et/ou le nombre de sous intervalles de $[a,b]$ à considérer.**\n"
   ]
  },
  {
   "cell_type": "markdown",
   "metadata": {
    "id": "L2Fyev-d6TfB"
   },
   "source": [
    "## Rappel du Cours"
   ]
  },
  {
   "cell_type": "markdown",
   "metadata": {
    "id": "mZmCIPVW6TfD"
   },
   "source": [
    "**Les méthodes numériques utilisées pour calculer la valeur exacte de l'integrale $I$ d'une fonction continue $f$ sur un intervalle $[a,b]$ ne sont pas toujours efficaces et conduisent généralement à d'avantages de calculs. En analyse numérique, il existe une vaste famille d'algorithmes dont le but principal est d'estimer la valeur exacte de $I$.**\n",
    "\n",
    "**Les méthodes qui seront étudiées dans ce TP sont :**\n",
    "- **la méthode composite des rectangles  à droite**\n",
    "- **la méthode composite des trapèzes.**\n",
    "- **la méthode composite de Simpson.**"
   ]
  },
  {
   "cell_type": "markdown",
   "metadata": {
    "id": "0aGpYP8u6TfF"
   },
   "source": [
    "### Principe général\n",
    "**Soit $f: [a,b] \\rightarrow \\mathbb{R}$ une fonction continue. Il s'agit d'approcher la valeur de $I(f)=\\displaystyle\\int_a^b f(t) \\,dt$.**\n",
    "\n",
    "**Pour ce faire, nous commençons par subdiviser l'intervalle $[a,b]$ en $n$ sous-intervalles $[x_k,x_{k+1}]$, $0\\leq k \\leq n-1$, de largeur uniforme $h=\\displaystyle \\frac{b-a}{n}$, tels que $x_k=a+kh$, $\\forall\\,0\\leq k\\leq n$. Ainsi, $$I(f)=\\displaystyle\\int_a^b f(t)\\,dt= \\displaystyle\\sum_{k=0}^{n−1} \\int_{x_k}^{x_{k+1}} f(t)\\,dt.$$**  \n",
    "\n",
    "**Ensuite, en approchant $\\displaystyle \\int_{x_k}^{x_{k+1}} f(t)\\,dt$, $0\\leq k \\leq n-1$ par l'une des méthodes simples suivantes, appliquée sur $[x_k,x_{k+1}]$ :**\n",
    "\n",
    "1. **Rectangle à droite simple :** \n",
    "$$\\displaystyle I_{RD}^s(f)=f(x_{k+1})(x_{k+1}-x_k)$$\n",
    "\n",
    "\n",
    "2. **Rectange à gauche simple :** \n",
    "$$\\displaystyle I_{RG}^s(f)=f(x_{k})(x_{k+1}-x_k)$$\n",
    "\n",
    "\n",
    "3. **Rectange du point milieu simple :** \n",
    "$$\\displaystyle I_{RM}^s(f)=f(\\frac{x_k+x_{k+1}}{2})(x_{k+1}-x_k)$$ \n",
    "\n",
    "\n",
    "4. **Trapèze simple :** \n",
    "$$\\displaystyle I_{T}^s(f)=\\frac{f(x_k)+f(x_{k+1})}{2}(x_{k+1}-x_k)$$\n",
    "\n",
    "\n",
    "5. **Simpson simple :** \n",
    "$$\\displaystyle I_{S}^s(f)=\\frac{x_{k+1}-x_k}{6}\\big[f(x_k)+4f(\\frac{x_k+x_{k+1}}{2})+f(x_{k+1})\\big]$$\n",
    "\n",
    "**Nous obtenons la formule composite associée pour approcher $I(f)$.** \n",
    "\n",
    "**Les abréviations $Rg$, $Rd$, $Rm$, $T$, $S$, $s$, et $c$ désignent, respectivement, Rectangle à gauche, Rectangle à droite, Rectangle milieu, Trapèze, Simpson, simple et composite.**\n",
    "\n",
    "\n",
    "**Dans tout ce qui suit, nous considérons une fonction $f$ continue sur $[a,b]\\subset\\mathbb{R}$ et $x_k=a+kh$, $\\quad 0\\leq k \\leq n$ les points d'intégrations issus de la subdivision de $[a,b]$ en $n$ sous intervalles avec un pas fixe $\\displaystyle h=\\frac{b-a}{n}$.**"
   ]
  },
  {
   "cell_type": "markdown",
   "metadata": {
    "id": "9PTQhN8m6TfH"
   },
   "source": [
    "## Méthodes composites des rectangles\n",
    "\n"
   ]
  },
  {
   "cell_type": "code",
   "execution_count": null,
   "metadata": {
    "id": "qwqxKFQ16TfI"
   },
   "outputs": [],
   "source": [
    "import numpy as np\n",
    "import matplotlib.pyplot as plt"
   ]
  },
  {
   "cell_type": "markdown",
   "metadata": {
    "id": "U81wst2f6TfJ"
   },
   "source": [
    "### Formule de la méthode composite du rectangle à droite  \n",
    "\n",
    "$$I(f)\\approx I_{RD}^c(f)=h\\,\\sum_{k=1}^{n}\\,f(a+kh).$$\n",
    "\n",
    "\n",
    "\n",
    "\n",
    "**Ecrire une fonction ```rectangle_droite_composite(f,a,b,n)```  prenant en entrée $f$, une fonction continue sur $[a,b]$, $a$, $b$, les bornes de $[a,b]$ et $n$, le nombre de sous intervalles à considérer et retourne la valeur approchée $I_{RD}^c(f)$.**"
   ]
  },
  {
   "cell_type": "code",
   "execution_count": null,
   "metadata": {
    "id": "8DMUp-eP6TfK"
   },
   "outputs": [],
   "source": [
    "def rectangle_droite_composite(f,a,b,n):\n",
    "  \n",
    "\n",
    "  "
   ]
  },
  {
   "cell_type": "markdown",
   "metadata": {
    "id": "8WHGM8if6TfK"
   },
   "source": [
    "### Exercice 1  \n",
    "**On considère la fonction $\\displaystyle f(t)=e^{-t^2}$, $t\\in[-1,1]$.**\n",
    "\n",
    "**Dans cet exercice nous allons faire la comparaison graphique de la valeur de l'intégrale $I(f)$ et la valeur approximative donnée par la méthode du rectangle à droite en utilisant la fonction `plt.fill_between`.**\n",
    "\n",
    "**Cette fonction est utilisée pour visualiser  l'aire limitée par deux fonctions $f$ et $g$ sur un même intervalle :  ```plt.fill_between(t,f(t),g(t))```**\n",
    "\n",
    "1. **Pour $n=4$, sur un même graphe, représenter la fonction $f$ en bleu et la valeur approchée $I_{RD}^c(f)$ en rouge.**\n",
    "\n",
    "\n",
    "2. **Retracer les figures pour $n=10$. Observer les résultats et conclure.**\n",
    "\n",
    "\n",
    "\n"
   ]
  },
  {
   "cell_type": "markdown",
   "metadata": {
    "id": "BQN2sMi_6TfL"
   },
   "source": [
    "### Question $(1)$"
   ]
  },
  {
   "cell_type": "code",
   "execution_count": null,
   "metadata": {
    "id": "Ip1FbOoF6TfL"
   },
   "outputs": [],
   "source": [
    "f=.......................\n",
    "t=.......................\n",
    "x=......................\n",
    "#x=np.arange(-1,1.1,1/2)\n",
    "plt.figure(figsize=(20,10))\n",
    "plt.grid(True)\n",
    "plt.plot(......,..........,color=\"blue\",linewidth=4)\n",
    "plt.fill_between(.......,........,step='pre',color=\"red\",alpha=0.5)#tracer f(x) en fonction de x\n",
    "plt.legend(('$f$','$I_{RD}^c(f)$'),loc=0,fontsize=30)\n",
    "plt.xticks(fontsize=20)\n",
    "plt.yticks(fontsize=20)\n",
    "plt.xlabel('t',fontsize=30)\n",
    "plt.ylabel('f(t)',fontsize=30)\n",
    "plt.title('Approximation de $\\int_{-1}^1 e^{-t^2}dt$ par la méthode des rectangles à droite (n=4)', fontsize=30)\n"
   ]
  },
  {
   "cell_type": "markdown",
   "metadata": {
    "id": "lpkQGhjM6TfM"
   },
   "source": [
    "### Question $(3)$"
   ]
  },
  {
   "cell_type": "code",
   "execution_count": null,
   "metadata": {
    "id": "2UCVkDsB6TfN"
   },
   "outputs": [],
   "source": [
    "\n"
   ]
  },
  {
   "cell_type": "markdown",
   "metadata": {
    "id": "nMuQloj26TfO"
   },
   "source": [
    "### Le module Sympy\n",
    "**Le module Sympy permet de faire le calcul mathématique formel, exemple le calcul de primitive et le calcul d'intégrale en utilisant la fonction ``integrate``.** \n",
    "\n",
    "$\\bullet$ **Il faut faire appel à la bibliothèque sympy en utilisant ``import sympy as sp``**\n",
    "\n",
    "$\\bullet$ **Avant de pourvoir utiliser des variables symboliques, il faut les déclarer comme symboles:\n",
    "```x=sp.symbols('x')```**\n",
    "\n",
    "$\\bullet$ **Ensuite faire des opérations entre symboles, exemple:**\n",
    "\n",
    "$a.$ **Pour trouver la primitive d'une fonction $f$, on utilise $\\int f(x) dx = $ ``sp.integrate(f(x),x)``**\n",
    "\n",
    "$b.$ **Pour calculer l'intégrale $I(f)=\\int_{a}^{b} f(x) dx $, on utilise ``sp.integrate(f(x),(x,a,b))``.**\n",
    "\n",
    "$c.$ **Pour donner la valeur numérique de l'intégrale $I(f)=\\int_{a}^{b} f(x) dx $, on utilise ``sp.integrate(f(x),(x,a,b)).evalf()``.**\n",
    "\n",
    "### Exercice 2  \n",
    "\n",
    "1. **Calculer la primitive de la fonction $f(x)=e^{-x},\\, x\\in \\mathbb{R}$ en utilisant le module sympy.**\n",
    "\n",
    "\n",
    "2. **Calculer la valeur de l'intégrale $\\int_{0}^{1} e^{-x} dx $.**\n",
    "\n",
    "\n",
    "3. **Calculer la valeur de l'intégrale $\\int_{-1}^{1} e^{-x^2} dx $.**\n",
    "\n",
    "\n",
    "4. **Calculer l'erreur d'integration de la méthode composite du rectangle à droite pour $n=4$ et $n=10$.**\n"
   ]
  },
  {
   "cell_type": "markdown",
   "metadata": {
    "id": "5Vsm4Eh86TfP"
   },
   "source": [
    "### Question $(1)$\n"
   ]
  },
  {
   "cell_type": "code",
   "execution_count": null,
   "metadata": {
    "id": "QCtMj6IA6TfQ"
   },
   "outputs": [],
   "source": [
    "import sympy as sp\n"
   ]
  },
  {
   "cell_type": "code",
   "execution_count": null,
   "metadata": {
    "id": "CdtvST086TfQ"
   },
   "outputs": [],
   "source": []
  },
  {
   "cell_type": "markdown",
   "metadata": {
    "id": "yChXtCxn6TfR"
   },
   "source": [
    "### Question $(2)$"
   ]
  },
  {
   "cell_type": "code",
   "execution_count": null,
   "metadata": {
    "id": "OJjqT3ze6TfR"
   },
   "outputs": [],
   "source": []
  },
  {
   "cell_type": "code",
   "execution_count": null,
   "metadata": {
    "id": "BLpbVOXU6TfR"
   },
   "outputs": [],
   "source": []
  },
  {
   "cell_type": "markdown",
   "metadata": {
    "id": "7zAkyn-h6TfS"
   },
   "source": [
    "### Question $(3)$"
   ]
  },
  {
   "cell_type": "code",
   "execution_count": null,
   "metadata": {
    "id": "2N-E7azL6TfS"
   },
   "outputs": [],
   "source": []
  },
  {
   "cell_type": "markdown",
   "metadata": {
    "id": "FUCkbNhl6TfS"
   },
   "source": [
    "### Question $(4)$"
   ]
  },
  {
   "cell_type": "code",
   "execution_count": null,
   "metadata": {
    "id": "Fk2SZYOV6TfT"
   },
   "outputs": [],
   "source": [
    "#pour n=4\n",
    "\n",
    "\n"
   ]
  },
  {
   "cell_type": "code",
   "execution_count": null,
   "metadata": {
    "id": "bXdMd7XF6TfT"
   },
   "outputs": [],
   "source": [
    "#pour n=10\n",
    "\n"
   ]
  },
  {
   "cell_type": "markdown",
   "metadata": {
    "id": "aao7lTbw6TfU"
   },
   "source": [
    "### Formule de la méthode composite des trapèzes \n",
    "\n",
    "$$I(f)\\approx I_T^c(f) =\\frac{h}{2}\\,\\Big(f(a)+2\\sum_{k=1}^{n-1}\\,f(a+kh)+f(b)\\Big).$$\n",
    "\n",
    "\n",
    "\n",
    "1. **Ecrire une fonction ```trapèze_composite(f,a,b,n)```  prenant en entrée $f$, une fonction continue sur $[a,b]$, $a$, $b$, les bornes de $[a,b]$ et $n$, le nombre de sous intervalles à considérer et retourne la valeur approchée $I_{T}^c(f)$.**\n",
    "\n",
    "**On considère la fonction $\\displaystyle f(t)=e^{-t^2}$, $t\\in[-1,1]$.**\n",
    "\n",
    "2. **Pour $n=4$ et sur un même graphe, représenter la valeur exacte $I(f)$ en bleu et la valeur approchée $I_{T}^c(f)$ en rouge.**\n",
    "\n",
    "\n",
    "3. **Retracer les figures pour $n=10$. Observer les résultats et conclure.**\n",
    "\n",
    "\n",
    "4. **Calculer l'erreur d'intégration de la méthode composite de trapèze pour $n=4$ et $n=10$ et comparer les résultats.**"
   ]
  },
  {
   "cell_type": "markdown",
   "metadata": {
    "id": "Vd4-8Qib6TfU"
   },
   "source": [
    "### Question $(1)$"
   ]
  },
  {
   "cell_type": "code",
   "execution_count": null,
   "metadata": {
    "id": "mZMC085h6TfV"
   },
   "outputs": [],
   "source": [
    "def trapèze_composite(f,a,b,n):\n",
    "   "
   ]
  },
  {
   "cell_type": "markdown",
   "metadata": {
    "id": "3rFOewkG6TfV"
   },
   "source": [
    "### Question $(2)$"
   ]
  },
  {
   "cell_type": "code",
   "execution_count": null,
   "metadata": {
    "id": "zyPcFYiD6TfV"
   },
   "outputs": [],
   "source": []
  },
  {
   "cell_type": "markdown",
   "metadata": {
    "id": "9N3Kl-ZA6TfW"
   },
   "source": [
    "### Question $(3)$"
   ]
  },
  {
   "cell_type": "code",
   "execution_count": null,
   "metadata": {
    "id": "SvKDTEnQ6TfX"
   },
   "outputs": [],
   "source": []
  },
  {
   "cell_type": "markdown",
   "metadata": {
    "id": "pbItV99i6TfY"
   },
   "source": [
    "### Question $(4)$"
   ]
  },
  {
   "cell_type": "code",
   "execution_count": null,
   "metadata": {
    "id": "kSIwsSle6TfY"
   },
   "outputs": [],
   "source": [
    "#pour n=4\n",
    "\n"
   ]
  },
  {
   "cell_type": "code",
   "execution_count": null,
   "metadata": {
    "id": "m9vWaGWq6TfZ"
   },
   "outputs": [],
   "source": [
    "\n",
    "#pour n=10\n",
    "\n"
   ]
  },
  {
   "cell_type": "markdown",
   "metadata": {
    "id": "Z-jS3o5A6TfZ"
   },
   "source": [
    "\n",
    "\n",
    "### Formule de la méthode composite de Simpson \n",
    "\n",
    "$$I(f)\\approx I_S^c(f) =\\frac{h}{3}\\,\\Big(f(a)+4\\sum_{k=0}^{p-1}\\,f(a+(2k+1)h)+2\\sum_{k=1}^{p-1}\\,f(a+2kh)+f(b)\\Big),$$\n",
    "**avec $n=2p$, $p\\in\\mathbb{N}^*$.**\n",
    "\n",
    "\n",
    "\n",
    "1. **Ecrire une fonction ```Simpson_composite(f,a,b,n)```  prenant en entrée $f$, une fonction continue sur $[a,b]$, $a$, $b$, les bornes de $[a,b]$ et $n$, le nombre de sous intervalles à considérer et retourne la valeur approchée $I_{S}^c(f)$.**\n",
    "\n",
    "**On considère la fonction $\\displaystyle f(t)=e^{-t^2}$, $t\\in[-1,1]$.**\n",
    "\n",
    "2.  **Calculer l'erreur d'intégration de la méthode composite de Simpson pour $n=4$ et $n=10$ et comparer les résultat**"
   ]
  },
  {
   "cell_type": "markdown",
   "metadata": {
    "id": "SSGIazX36Tfa"
   },
   "source": [
    "### Question $(1)$\n"
   ]
  },
  {
   "cell_type": "code",
   "execution_count": null,
   "metadata": {
    "id": "Gi2OP_vT6Tfa"
   },
   "outputs": [],
   "source": [
    "def Simpson_composite(f,a,b,n):\n",
    "\n",
    "  \n",
    "  "
   ]
  },
  {
   "cell_type": "markdown",
   "metadata": {
    "id": "8O2UeH7D6Tfa"
   },
   "source": [
    "### Question $(2)$\n"
   ]
  },
  {
   "cell_type": "code",
   "execution_count": null,
   "metadata": {
    "id": "MMVY60HR6Tfb"
   },
   "outputs": [],
   "source": [
    "#pour n=4\n",
    "\n"
   ]
  },
  {
   "cell_type": "code",
   "execution_count": null,
   "metadata": {
    "id": "oBOTmeRU6Tfb"
   },
   "outputs": [],
   "source": [
    "#pour n=10\n",
    "\n"
   ]
  },
  {
   "cell_type": "markdown",
   "metadata": {
    "id": "OeyZxDUj6Tfb"
   },
   "source": [
    "## Nombre d'itérations  "
   ]
  },
  {
   "cell_type": "markdown",
   "metadata": {
    "id": "f8afTJA46Tfc"
   },
   "source": [
    "**L'Objectif de cette partie est de comparer les différentes méthodes d'intégration numérique, programmées dans ce TP, en terme de nombre d'itérations nécessaires pour approcher l'intégrale\n",
    " $I=\\displaystyle \\int_{a}^{b} f(t)dt$ avec une précision $\\varepsilon$ donnée.**\n",
    " \n",
    " \n",
    "**Ecrire une fonction ```integrale_precise(f, I, epsilon, methode)``` qui permet de déterminer le nombre d'itérations garantissant  une valeur approchée à $\\varepsilon$ près, en fonction de la précision epsilon, la valeur de $I$ et une méthode parmi les méthodes d'intégrations numériques définies ci-dessus.**"
   ]
  },
  {
   "cell_type": "code",
   "execution_count": null,
   "metadata": {
    "id": "EoVno6V-6Tfc"
   },
   "outputs": [],
   "source": [
    "def integrale_precise(f,I,epsilon, methode):\n",
    "    n=2\n",
    "    ............................."
   ]
  },
  {
   "cell_type": "markdown",
   "metadata": {
    "id": "LbA5gG4Q6Tfd"
   },
   "source": [
    "### Exercice 3:  \n",
    "**On considère la fonction $\\displaystyle f(t)=\\frac{1}{1+t^2}$, $t\\in[0,1]$.**\n",
    "1. **Donner la valeur de $I=\\displaystyle \\int_{0}^{1}f(t)dt$.** \n",
    "2. **Pour $\\varepsilon=10^{-1}$, $\\varepsilon=10^{-2}$ et $\\varepsilon=10^{-3}$, quel est le nombre de sous-intervalles $n$ à considèrer garantissant une erreur inférieure à $\\varepsilon$ pour chacune des méthodes suivantes.** \n",
    "   \n",
    "   a. **La méthode du rectangle à droite.**  \n",
    "   \n",
    "   b. **La méthode du trapèze.**  \n",
    "   \n",
    "   c. **La méthode de Simpson.**\n",
    "   \n",
    "   \n",
    "   \n",
    "   \n",
    "3. **Comparer la convergence des méthodes en terme du nombre d'itérartion nécessaire.**\n"
   ]
  },
  {
   "cell_type": "markdown",
   "metadata": {
    "id": "yGO6TyuQ6Tfd"
   },
   "source": [
    "### Réponse 1:"
   ]
  },
  {
   "cell_type": "code",
   "execution_count": null,
   "metadata": {
    "id": "XBgdo3S06Tfd"
   },
   "outputs": [],
   "source": []
  },
  {
   "cell_type": "markdown",
   "metadata": {
    "id": "4UnXTxoc6Tfe"
   },
   "source": [
    "### Réponse 2:"
   ]
  },
  {
   "cell_type": "code",
   "execution_count": null,
   "metadata": {
    "id": "j1k5VXrJ6Tfe"
   },
   "outputs": [],
   "source": [
    "f=.................................\n",
    "epsilon=...............................\n",
    "N_r_d=.......................................\n",
    "N_t=.......................................................\n",
    "N_s=...........................................\n",
    "print('La valeur exacte de I est =', I)\n",
    "print('le nombre necessaire de sous intervalles pour estimer I en utilisant la méthode de rectange à droite à epsilon près =', epsilon,' est :', N_r_d)\n",
    "print('le nombre necessaire de sous intervalles pour estimer I en utilisant la méthode du trapèze à epsilon près =', epsilon,' est :', N_t) \n",
    "print('le nombre necessaire de sous intervalles pour estimer I en utilisant la méthode de simpson à epsilon près =', epsilon,' est :', N_s)\n",
    "\n"
   ]
  },
  {
   "cell_type": "markdown",
   "metadata": {
    "id": "Czp4a4uS6Tfe"
   },
   "source": [
    "### Exercice 4 :\n",
    "\n",
    "**On considère la fonction $f(t)=\\displaystyle te^{-t}$, $\\displaystyle t\\in[-1,1]$.** \n",
    "1. **Calculer la valeur exacte de $I(f)=\\displaystyle \\int_{-1}^1 f(t)dt$.**\n",
    "2. **pour $n\\in\\{10, 20, 30,\\cdots,10^3\\}$, calculer les erreurs d'intégration pour l'approximation de $I(f)$ par $I_{RM}^c$, $I_{T}^c$ et $I_S^c(f)$ en fonction de $n$ le nombre de sous-intervalles de $[-1,1]$.**\n",
    "3. **Sur un même graphe, tracer l'évolution de l'erreur d'intégration.**"
   ]
  },
  {
   "cell_type": "markdown",
   "metadata": {
    "id": "VitJYo4e6Tff"
   },
   "source": [
    "### Réponse 1"
   ]
  },
  {
   "cell_type": "code",
   "execution_count": null,
   "metadata": {
    "id": "YfNV_aDW6Tff"
   },
   "outputs": [],
   "source": []
  },
  {
   "cell_type": "markdown",
   "metadata": {
    "id": "hOxJ1mDx6Tff"
   },
   "source": [
    "### Réponse 2"
   ]
  },
  {
   "cell_type": "code",
   "execution_count": null,
   "metadata": {
    "id": "5r4fiqxj6Tfg"
   },
   "outputs": [],
   "source": [
    "f=lambda t:t*np.exp(-t)\n",
    "a=-1\n",
    "b=1\n",
    "Err_RD=[]\n",
    "Err_T=[]\n",
    "Err_S=[]\n",
    "for i in np.arange(10,10**3+1,10):\n",
    "    ..................................................\n"
   ]
  },
  {
   "cell_type": "markdown",
   "metadata": {
    "id": "lO10uWfb6Tfg"
   },
   "source": [
    "### Réponse 3"
   ]
  },
  {
   "cell_type": "code",
   "execution_count": null,
   "metadata": {
    "id": "IyhdAxG86Tfg"
   },
   "outputs": [],
   "source": [
    "t=............................\n",
    "plt.figure(figsize=(20,10))\n",
    "plt.grid(True)\n",
    "plt.plot(............................)\n",
    "plt.legend(('Méthode composite des rectangles à droite', 'Méthode composite des trapèzes', 'Méthode composite de Simpson'),fontsize=20,loc=0)\n",
    "#plt.xscale('log')\n",
    "plt.yscale('log')\n",
    "plt.xticks(fontsize=20)\n",
    "plt.yticks(fontsize=20)\n",
    "plt.xlabel('nombre de sous-intervalles', fontsize=30)\n",
    "plt.ylabel('Erreur d\\'intégration', fontsize=30)\n",
    "#plt.title('Approximation de $\\int_{-1}^1 e^{-t^2}dt$ par la méthode des trapèzes (n=4)', fontsize=30)"
   ]
  },
  {
   "cell_type": "markdown",
   "metadata": {
    "id": "bvWrk6ux6Tfk"
   },
   "source": [
    "# Références  \n",
    "\n",
    "[1] [Kiusalaas, J. (2013). Numerical methods in engineering with Python 3. Cambridge university press.](https://books.google.tn/books?hl=fr&lr=&id=YlkgAwAAQBAJ&oi=fnd&pg=PP10&dq=numerical+methods+in+engineering+&ots=-42y60OrWf&sig=wxL2oISNUKKPlvgH4-tsYh1RK9o&redir_esc=y#v=onepage&q=numerical%20methods%20in%20engineering&f=false)  \n",
    "[2] [Numpy Package](https://numpy.org/devdocs/user/quickstart.html)  \n",
    "[3] [Mathplotlib Package](https://matplotlib.org/tutorials/index.html#introductory)  \n",
    "[4] [Jupyter markdowns](http://faccanoni.univ-tln.fr/user/enseignements/20182019/M62-CM1.pdf)  \n",
    "[5] [Sympy Package](https://www.sympy.org/en/index.html)"
   ]
  }
 ],
 "metadata": {
  "colab": {
   "name": "TP3_Intégration_Numérique_.ipynb",
   "provenance": []
  },
  "kernelspec": {
   "display_name": "Python 3 (ipykernel)",
   "language": "python",
   "name": "python3"
  },
  "language_info": {
   "codemirror_mode": {
    "name": "ipython",
    "version": 3
   },
   "file_extension": ".py",
   "mimetype": "text/x-python",
   "name": "python",
   "nbconvert_exporter": "python",
   "pygments_lexer": "ipython3",
   "version": "3.9.12"
  }
 },
 "nbformat": 4,
 "nbformat_minor": 1
}
