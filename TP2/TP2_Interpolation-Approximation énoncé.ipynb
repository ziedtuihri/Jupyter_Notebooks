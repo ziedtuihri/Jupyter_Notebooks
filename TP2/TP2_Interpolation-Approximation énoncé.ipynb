{
 "cells": [
  {
   "cell_type": "markdown",
   "metadata": {},
   "source": [
    "# TP2 : Interpolation polynomiale et approximation"
   ]
  },
  {
   "cell_type": "markdown",
   "metadata": {},
   "source": [
    "# Partie I. Interpolation polynomiale\n",
    "## Objectif\n",
    " \n",
    "L'objectif de cette partie du TP est :\n",
    " \n",
    "- d'interpoler un nombre de points donné par un polynôme en utilisant la méthode d'interpolation de  ***Lagrange***.\n",
    " \n",
    "- Représenter le polynôme d'interpolation de  ***Lagrange***.\n",
    "- Interpréter graphiquement les résultats obtenus."
   ]
  },
  {
   "cell_type": "markdown",
   "metadata": {},
   "source": [
    "## Prérequis :\n",
    "\n",
    "- Ecrire un polynôme dans la base canonique $\\{1,X,X^2,\\cdots,X^n\\}$ de $\\mathbb R_n[X]$.\n",
    "- Ecrire un polynôme dans la base de **Lagrange**\n",
    "- Somme et produit de deux polynômes.\n",
    "- Evaluation d'un polynôme en un point.\n",
    "-  Représentation graphique d'un polynôme."
   ]
  },
  {
   "cell_type": "markdown",
   "metadata": {},
   "source": [
    "## Bibliothèques :\n",
    "Les bibliothèques utilisées dans ce notebook sont :"
   ]
  },
  {
   "cell_type": "code",
   "execution_count": null,
   "metadata": {},
   "outputs": [],
   "source": [
    "import numpy as np\n",
    "import matplotlib.pyplot as plt"
   ]
  },
  {
   "cell_type": "markdown",
   "metadata": {},
   "source": [
    "Les polynômes dans NumPy peuvent être créés, manipulés et même ajustés à l'aide de la classe `Polynomial` du package `numpy.polynomial`. Pour déclarer cette classe, on écrit :"
   ]
  },
  {
   "cell_type": "code",
   "execution_count": null,
   "metadata": {},
   "outputs": [],
   "source": [
    "from numpy.polynomial import Polynomial"
   ]
  },
  {
   "cell_type": "markdown",
   "metadata": {},
   "source": [
    "# I. Introduction :\n",
    "Un polynôme $P_n\\in \\mathbb R_n[X]$ à une indéterminée $X$ s'écrit sous la forme :\n",
    "$$P _n(X)=\\alpha_0+\\alpha_1 X+\\alpha_2X^2+\\cdots \\alpha_nX^n=\\sum_{i=0}^n\\alpha_iX^i,$$\n",
    "avec $\\alpha_i\\in \\mathbb R$.\n",
    "\n",
    "Le polynôme $P_n$ est donné dans la base canonique $\\{1,X,X^2,\\cdots,X^n\\}$ de l'espace vectoriel $\\mathbb R_n[X]$, avec $\\mathbb R_n[X]$ l'ensemble  des polynômes de degré inférieur ou égal à $n$.\n",
    "\n",
    "Le polynôme $P_n$ est caractérisé par ses coefficients $\\alpha_0$, $\\alpha_1$,...,$\\alpha_n$.\n",
    "\n",
    "Pour déclarer le polynôme $P_n$,  On utilise la classe `Polynomial` comme suit :\n",
    "\n",
    "$$P_n=\\text{Polynomial}([\\alpha_0,\\alpha_1,...,\\alpha_n])$$\n",
    "\n",
    "Il faut écrire les coefficients par ordre de degré croissant."
   ]
  },
  {
   "cell_type": "markdown",
   "metadata": {},
   "source": [
    "## Exercice :\n",
    "**Soient $P$ et $Q$ deux polynômes donnés par :**\n",
    "$$P(X)=1+6X^2+X^3,\\qquad Q(X)=2+5X^2$$\n",
    "1. **Ecrire les polynômes $P$ et $Q$, puis afficher leurs types**\n",
    "1. **Donner l'expression des polynômes $P+Q$ et $P*Q$, puis utiliser la commande `coef`pour afficher leurs coefficients**\n"
   ]
  },
  {
   "cell_type": "code",
   "execution_count": null,
   "metadata": {},
   "outputs": [],
   "source": [
    "# Question 1  \n",
    "P=Polynomial([1,0,6,1]) #P(X)=1+6*X^2+1*X^3=1+0*X+6*X^2+1*X^3.\n",
    "Q=Polynomial([2,0,5]) #Q(X)=2+5*X^2=2+0*X+5*X^2.\n",
    "type(P), type(Q)"
   ]
  },
  {
   "cell_type": "code",
   "execution_count": null,
   "metadata": {},
   "outputs": [],
   "source": [
    "# Question 2:  \n",
    "R=P+Q\n",
    "R\n",
    "#print('P+Q=',R)\n",
    "#print('P*Q=',P*Q)"
   ]
  },
  {
   "cell_type": "code",
   "execution_count": null,
   "metadata": {},
   "outputs": [],
   "source": [
    "# Les coefficients de P+Q\n",
    "print('Les coefficients de P+Q sont:',R.coef)\n",
    "# Les coefficients de P*Q\n",
    "print('Les coefficients de P*Q sont:',(P*Q).coef)"
   ]
  },
  {
   "cell_type": "markdown",
   "metadata": {},
   "source": [
    "### ``` Attention```\n",
    "Pour extraire le coefficient $a_i$ du polynôme $R$, on utilise l'instruction ``` R.coef[i]``` et non ```R(i)```. \n",
    "- ``` R.coef``` affiche tous les coefficient de $R$.\n",
    "-  ``` R.coef[i]``` affiche le coefficient $a_i$ de $R$.\n",
    "- ``` R(i)``` evalue $R$ en $i$ (affiche la valeur de $R$ en $i$)."
   ]
  },
  {
   "cell_type": "markdown",
   "metadata": {},
   "source": [
    "# II. Interpolation de Lagrange :\n",
    "## Rappel : (Interpolation polynomiale)\n",
    "Soient $n+1$ points $(x_i, y_i)_{0\\leq i\\leq n}$. Interpoler ces points correspond à déterminer le polynôme $P\\in\\mathbb{R}_n[X]$ passant par ces derniers : $$\\forall i\\in\\{0,\\cdots,n\\}, \\quad P(x_i)=y_i.$$\n",
    "Les abscisses $(x_i)_{0\\leq i\\leq n}$ et les ordonnées $(y_i)_{0\\leq i\\leq n}$  sont appelées, respectivement, les points et les valeurs d’interpolation. Pour interpoler une fonction $f$, on définit ses valeurs d’interpolation comme suit : $$ y_i = f(x_i),\\;\\forall\\;0\\leq i\\leq n.$$ \n",
    "Dans ce qui suit, nous présentons la méthode d'interpolation de  Lagrange."
   ]
  },
  {
   "cell_type": "markdown",
   "metadata": {},
   "source": [
    "##  <font color='red'>Codage : $l_{ij}$</font> \n",
    "**Ecrire une fonction `coefficients(x,i,j)` prenant en entrée $x=(x_i)_{0\\leq i\\leq n}$, des abscisses des points, $i$ et $j$, des indices différents, et retourne les coefficients du polynôme $l_{ij}(t)$ :**\n",
    "\n",
    "$$\\begin{cases}\n",
    "l_{ij}(t)=1,& i=j\\\\\n",
    "\\\\\n",
    "{l_{ij}}(t)=\\dfrac{t-x_j}{x_i-x_j}=\\underbrace{\\dfrac{-x_j}{x_i-x_j}}_{a_0}+\\underbrace{\\dfrac{t}{x_i-x_j}}_{a_1t},& i\\neq j,\n",
    "\\end{cases}\n",
    " \\ \\ \\ avec \\ i,j\\in\\{0,\\cdots,n\\}.\n",
    "$$\n",
    "Pour définir $ l_ {ij} (t) $, il suffit d'utiliser la commande `Polynomial([a0,a1])`."
   ]
  },
  {
   "cell_type": "code",
   "execution_count": null,
   "metadata": {},
   "outputs": [],
   "source": [
    "def coefficients(x,i,j):\n",
    "    pol=Polynomial([1]) \n",
    "    if .....................\n",
    "        .................................\n",
    "    return pol "
   ]
  },
  {
   "cell_type": "markdown",
   "metadata": {},
   "source": [
    "**Application :** Pour $x=(-2,-1,0,1)$, calculer $l_{01}$."
   ]
  },
  {
   "cell_type": "code",
   "execution_count": null,
   "metadata": {},
   "outputs": [],
   "source": [
    "x=[-2,-1,0,1]\n",
    "print('l01=',...............)"
   ]
  },
  {
   "cell_type": "markdown",
   "metadata": {},
   "source": [
    "##  <font color='red'>Codage : $L_{i}$</font>  \n",
    "**Ecrire une fonction `Lagrange(x,i)` prenant en entrée $x=(x_i)_{0\\leq i\\leq n}$, des abscisses des points, $i$ un indice tel que $0\\leq i\\leq n$, et retourne les coefficients du polynôme $\\displaystyle L_i(t)=\\underset{j\\neq i}{\\prod_{j=0}^{n}}   l_{ij}(t)$.**"
   ]
  },
  {
   "cell_type": "code",
   "execution_count": null,
   "metadata": {},
   "outputs": [],
   "source": [
    "def Lagrange(x,i): # les coefficients de polynome de Lagrange (Li)\n",
    "    L=Polynomial([1]) # Initialisation de L\n",
    "    for j in ...............\n",
    "        if .....:\n",
    "            Lij=...................\n",
    "            ....................... \n",
    "    return L"
   ]
  },
  {
   "cell_type": "markdown",
   "metadata": {},
   "source": [
    "**Application :** Soit $x=(-2,-1,0,1)$, calculer $L_0$, $L_1$, $L_2$ et $L_3$."
   ]
  },
  {
   "cell_type": "code",
   "execution_count": null,
   "metadata": {},
   "outputs": [],
   "source": [
    "x=[-2,-1,0,1]\n",
    "print('L0=',...........)\n",
    "print('L1=',...........)\n",
    "print('L2=',............)\n",
    "print('L3=',............)"
   ]
  },
  {
   "cell_type": "markdown",
   "metadata": {},
   "source": [
    "## <font color='red'>Codage de $P(x)=\\displaystyle\\sum_{i=0}^{n}y_iL_i(x)$</font> \n",
    "**Ecrire une fonction `polynome_Lagrange(x,y)` prenant en entrée $x=(x_i)_{0\\leq i\\leq n}$ et $y=(y_i)_{0\\leq i\\leq n}$, les abscisses et les ordonnées des points $(x_i,y_i)$  tel que $0\\leq i\\leq n$  et retourne le polynôme $\\displaystyle P(t)=\\sum_{i=0}^{n}y_iL_i(t)$**"
   ]
  },
  {
   "cell_type": "code",
   "execution_count": null,
   "metadata": {},
   "outputs": [],
   "source": [
    "def polynome_Lagrange(x,y): \n",
    "    P=Polynomial([0])  \n",
    "    n=len(x) \n",
    "    for i in .........: \n",
    "        produit=..............\n",
    "        ................ \n",
    "    return P"
   ]
  },
  {
   "cell_type": "markdown",
   "metadata": {},
   "source": [
    "## <font color='red'>Evaluation d'un polynôme en un point et sa répresentation graphique</font> "
   ]
  },
  {
   "cell_type": "markdown",
   "metadata": {},
   "source": [
    "***Exercice:***\n",
    "\n",
    "1. Interpoler, par la méthode de Lagrange, la fonction  $x\\mapsto\\cos(x)$ aux points d'interpolation : $\\{-\\pi,-\\frac{\\pi}{2},0,\\frac{\\pi}{2},\\pi\\}$.  \n",
    "2. Sur $[-\\frac{3\\pi}{2},\\frac{3\\pi}{2}]$, tracer sur un même graphe les courbes de la fonction $x\\mapsto\\cos(x)$ et $P$, son polynôme d'interpolation de Lagrange associé aux points $\\{-\\pi,-\\frac{\\pi}{2},0,\\frac{\\pi}{2},\\pi\\}$.\n",
    "3. Interpréter les résultats."
   ]
  },
  {
   "cell_type": "code",
   "execution_count": null,
   "metadata": {},
   "outputs": [],
   "source": [
    "#Question 1:  \n",
    "x=[-np.pi,-(0.5)*np.pi,0,(0.5)*np.pi,np.pi] \n",
    "y=............\n",
    "P4=.........\n",
    "print(\"P=\",P4)"
   ]
  },
  {
   "cell_type": "code",
   "execution_count": null,
   "metadata": {},
   "outputs": [],
   "source": [
    "# Question 2  \n",
    "t=np.linspace(-1.5*np.pi,1.5*np.pi,100)\n",
    "plt.figure(figsize=(20,10))\n",
    "plt.plot(t,....,'r-',t,....., 'b--',x,......,'mo',linewidth=3,markersize=12)\n",
    "plt.xlabel('t',fontsize=30)\n",
    "plt.xticks(fontsize=20) \n",
    "plt.yticks(fontsize=20)\n",
    "plt.grid(True)\n",
    "plt.legend(('Polynome d\\'interpolation de Lagrange', 'cosinus', 'points d\\'interpolation'),fontsize=20, loc = 0)"
   ]
  },
  {
   "cell_type": "markdown",
   "metadata": {},
   "source": [
    " # Partie II.  Approximation polynomiale\n",
    "\n",
    "## Objectif   \n",
    "L'objectif de cette partie est de :  \n",
    "- Observer les données à modéliser,\n",
    "- Choisir le modèle adéquat, ajustant ces données,\n",
    "- Estimer les paramètres du modèle choisi au sens des moindres carrées."
   ]
  },
  {
   "cell_type": "markdown",
   "metadata": {
    "id": "kw_BJJF6LA_S"
   },
   "source": [
    "## Rappel du cours \n",
    "### Ajustement de données\n",
    "On considère $(n+1)$ points,  $\\displaystyle (x_i,y_i)_{0\\leq i \\leq n}$, d'abscisses deux à deux distinctes.   \n",
    "On note par $X=(x_i)_{0\\leq i \\leq n}\\in\\mathcal{M}_{(n+1),1}(\\mathbb{R})$ et $Y=(y_i)_{0\\leq i \\leq n}\\in\\mathcal{M}_{(n+1),1}(\\mathbb{R})$.  \n",
    "- La problématique consiste à juster un modèle défini par une fonction $f(.;\\Lambda)$ paramétrée par $\\Lambda=(\\lambda_j)_{0\\leq j\\leq p}\\in\\mathcal{M}_{(p+1),1}(\\mathbb{R})$ aux  données $(x_i,y_i)_{0\\leq i \\leq n}$   : approcher  $f(x_i;\\Lambda)$ par $y_i$, $\\forall i \\in \\{0,\\cdots,n\\}$.  \n",
    "- La fonction $f : \\mathbb{R}^{n+1}\\rightarrow\n",
    "\\mathbb{R}^{n+1}$ pourrait être linéaire ou  non-linéaire.\n",
    "- Le choix du modèle dépendra du phénomène étudié.  \n",
    "- Nous nous focalisons dans ce TP sur les fonctions polynomiales : $$ f(t;\\Lambda)=\\sum_{j=0}^p \\lambda_jt^j,\\;t\\in\\mathbb{R}.$$  \n",
    "- Deux cas possibles qui se présentent :\n",
    "    - $p=n$ : il s'agit alors d'une interpolation polynomiale\n",
    "    - $p<n$ : il s'agit d'une approximation polynomiale  \n",
    "    \n",
    "### Détermination du vecteur $\\Lambda$ au sens des moindres carrées\n",
    "Le vecteur $\\Lambda^*$, optimal au sens des moindres carrées, pour lequel on a un meilleur ajustement du modèle polynomiale $ f(t;\\Lambda)=\\displaystyle \\sum_{j=0}^p \\lambda_jt^j,\\;t\\in\\mathbb{R},$ aux données $\\displaystyle (x_i,y_i)_{0\\leq i \\leq n}$, est celui minimisant la fonctionnelle $$F(\\Lambda;X)=\\sum_{i=0}^n (f(x_i;\\Lambda)-y_i)^2.$$  Celà revient à dire que : $$\\Lambda^*=\\underset{\\Lambda\\in\\mathbb{R}^{p+1}}{\\; argmin\\; } F(\\Lambda;X).$$\n",
    "\n"
   ]
  },
  {
   "cell_type": "markdown",
   "metadata": {
    "id": "wVCmtdlhLA_T"
   },
   "source": [
    "En effet,  on note l'erreur résiduelle $e_i=f(x_i;\\Lambda)-y_i$, $\\forall i\\in\\{0,\\cdots,n\\}$, l'erreur commise par le modèle, $F(\\Lambda;X)$ sera ainsi exprimée comme suit :  \n",
    "$$F(\\Lambda;X)=\\sum_{i=0}^n \\big(f(x_i;\\Lambda)-y_i\\big)^2= \\sum_{i=0}^n e_i^2= \\parallel \\varepsilon \\parallel_2^{^2}$$\n",
    "avec  $\\varepsilon=(e_i)_{0\\leq j\\leq n}$, et $\\parallel . \\parallel_2$ désigne la norme euclidienne.\n",
    "\n",
    "En développant l'expression de l'erreur  $\\displaystyle e_i=\\sum_{j=0}^p \\lambda_jx_i^j-y_i$, $\\forall i\\in\\{0,\\cdots,n\\}$, : un système de $n+1$ équations linéaires sera généré selon la forme matricielle suivante :\n",
    "\n",
    " $$\\underset{\\varepsilon}{\\underbrace{\\begin{pmatrix}\n",
    "  e_0 \\\\\n",
    "\\vdots \\\\\n",
    "e_i \\\\\n",
    "\\vdots \\\\\n",
    "e_n \\\\\n",
    "\\end{pmatrix}}}=\\underset{A}{\\underbrace{\\begin{pmatrix}\n",
    "                                                                                                                                1& x_0 & x_0^2 & \\cdots & x_0^p \\\\\n",
    "                                                                                                                                \\vdots & & &  & \\vdots \\\\                                                                                                                                1& x_i & x_i^2 & \\cdots & x_i^p \\\\                                                                                                                                \\vdots &  & & & \\vdots \\\\\n",
    "1& x_n & x_n^2 & \\cdots & x_n^p \\\\                                                                                                                     \n",
    "                                                                                                                              \\end{pmatrix}}}\\underset{\\Lambda}{\\underbrace{\\begin{pmatrix}\n",
    "                                                                               \\lambda_0 \\\\\n",
    "                                                                               \\vdots \\\\\n",
    "                                                                               \\lambda_2 \\\\\n",
    "                                                                               \\vdots \\\\\n",
    "                                                                               \\lambda_p \\\\\n",
    "                                                                             \\end{pmatrix}}}-\\underset{Y}{\\underbrace{\\begin{pmatrix}\n",
    "                                                                               y_0 \\\\\n",
    "                                                                               \\vdots \\\\\n",
    "                                                                               y_i \\\\\n",
    "                                                                               \\vdots \\\\\n",
    "                                                                               y_n \\\\\n",
    "                                                                             \\end{pmatrix}}}$$  \n",
    "                                                                             \n",
    "$\\Rightarrow $ $F(\\Lambda;X)=\\parallel \\varepsilon\\parallel_2^{^2}=\\parallel A\\Lambda-Y\\parallel_2^{^2}$.  \n",
    "\n",
    "La vecteur $\\Lambda^*$ minimisant $F(\\Lambda;X)$ satisfait la condition suivante :\n",
    "$$\\bigtriangledown F(\\Lambda^*;X)=0_{p+1} : \\quad \\frac{\\partial F(\\Lambda^*;X)}{\\partial \\lambda_i}=0, \\; 0\\leq i\\leq p.$$\n",
    "où $0_{p+1}$ désigne le vecteur nul de $\\mathbb{R}^{p+1}$, $\\bigtriangledown F(\\Lambda^*;X)$ correspond au gradient de $F(.;X)$ appliqué à  $\\Lambda^*$ et $\\displaystyle \\frac{\\partial F(\\Lambda^*;X)}{\\partial \\lambda_i}$ présente la dérivée partielle de $F(.,X)$ par rapport à $\\lambda_i$, appliquée à $\\Lambda^*$.  \n",
    "\n",
    "En développant l'expression des dérivées partielles, il s'en suit : \n",
    "\n",
    "\n",
    "$$\\bigtriangledown F(\\Lambda^*;X)=0_{p+1} \\; \\Rightarrow \\; 2\\; ^tA(A\\Lambda^*-Y)=0_{p+1}$$\n",
    "\n",
    "$$\\Rightarrow \\Lambda^*=(^tAA)^{-1}\\;\\; ^tAY$$\n",
    "\n"
   ]
  },
  {
   "cell_type": "markdown",
   "metadata": {
    "id": "bNepyfuPLA_Y"
   },
   "source": [
    "# Implémentation\n",
    "Ecrire une fonction, que nous appelons `PLSA` 'Polynomial Least Squares Approximation' qui, pour un jeux de données (X,Y) et un ordre de modèle polynomiale $p$, retourne le vecteur  $\\Lambda^*$ de coefficients estimés du modèle sous-jacent, au sens des moindres carrées."
   ]
  },
  {
   "cell_type": "code",
   "execution_count": null,
   "metadata": {
    "id": "m9VQCI3dLA_b"
   },
   "outputs": [],
   "source": [
    "import numpy as np\n",
    "import matplotlib.pyplot as plt\n",
    "from numpy.polynomial import Polynomial"
   ]
  },
  {
   "cell_type": "code",
   "execution_count": null,
   "metadata": {
    "id": "YexM56vELA_c"
   },
   "outputs": [],
   "source": [
    "def PLSA(X,Y,p): # X et Y deux tableaux 1D\n",
    "    n = len(X)\n",
    "    A = np.ones((.....))\n",
    "    for i in np.arange(.............):\n",
    "        A[:,i] = .................   \n",
    "    Lambda=..............................\n",
    "    return  Polynomial(Lambda)  "
   ]
  },
  {
   "cell_type": "markdown",
   "metadata": {
    "id": "Uq-GBDRILA_e"
   },
   "source": [
    "Exercice\n",
    "--------  \n",
    "\n",
    "1. Déterminer l'expression de la droite optimale, au sens des moindres carrées, qui ajuste les points suivants :    \n",
    "  \n",
    "|$i$ | 0 | 1 | 2 | 3 | 4 |  \n",
    "|:---|:--|:--|:--|:--|:--|\n",
    "|$x_i$|1|2|3|4|5|\n",
    "|$y_i$|0.9|1.5|3.5|4.2|4.9|\n",
    "\n",
    "2. Représenter ensuite graphiquement le résultat de l'ajustement."
   ]
  },
  {
   "cell_type": "code",
   "execution_count": null,
   "metadata": {},
   "outputs": [],
   "source": [
    "#Question 1\n",
    "X = np.array([[1,2,3,4,5]]).T\n",
    "Y = np.array([[0.9,1.5,3.5,4.2,4.9]]).T\n",
    "Lambda = ............\n",
    "print(Lambda)"
   ]
  },
  {
   "cell_type": "code",
   "execution_count": null,
   "metadata": {},
   "outputs": [],
   "source": [
    "#Question 2\n",
    "a = -1\n",
    "b = 6\n",
    "m = 100\n",
    "plt.figure(figsize=(10,5))\n",
    "t = np.linspace(a,b,100) # on pourra réduire le nombre de points et on prend que deux points seulement si on cherche une droite \n",
    "plt.plot(X,Y,'ro',t,.............,'b--',lw=3,markersize=10) \n",
    "plt.xlabel('t',fontsize=15)\n",
    "plt.xticks(fontsize=10) \n",
    "plt.yticks(fontsize=10)\n",
    "plt.legend(('Mesures','Approximation'),fontsize=15, loc = 0) \n",
    "plt.grid(True)"
   ]
  },
  {
   "cell_type": "markdown",
   "metadata": {
    "id": "gdjQrMnuLA_h"
   },
   "source": [
    "# Présentation de la bibliothèque Pandas\n",
    "Pandas est une bibliothèque Python pour l'analyse de données. Il propose un certain nombre d'opérations d'exploration, de nettoyage et de transformation des données qui sont essentielles pour travailler avec des données en Python. Pandas s'appuie sur  numpy et scipy  fournissant des structures de données et des fonctions de manipulation de données faciles à utiliser avec indexation intégrée.\n",
    "\n",
    "Les principales structures de données fournies par pandas sont Series et  DataFrames. Les principales caractéristiques de pandas sont les suivantes:\n",
    "* Génération de statistiques descriptives sur les données\n",
    "* Nettoyage des données à l'aide des fonctions pandas intégrées\n",
    "* Opérations de données fréquentes pour le sous-ensemble, le filtrage, l'insertion, la suppression et l'agrégation de données\n",
    "\n",
    "**Resources:**\n",
    "* *pandas* Documentation: http://pandas.pydata.org/pandas-docs/stable/"
   ]
  },
  {
   "cell_type": "markdown",
   "metadata": {
    "id": "EZKhndgSLA_i"
   },
   "source": [
    "## Les structures de données en `pandas`\n",
    "`Pandas` nous offre deux structures de données principales à savoir: la classe `Series` et la classe `DataFrame`.   \n",
    "\n",
    "1. Une `Series` est un tableau à une dimension où chaque élément est indexé avec essentiellement un autre array (souvent de chaînes de caractères).\n",
    "2. Un `DataFrame` est un tableau à deux dimensions où les lignes et les colonnes sont indexées."
   ]
  },
  {
   "cell_type": "markdown",
   "metadata": {
    "id": "oC-jsezULA_i"
   },
   "source": [
    "# Application 1"
   ]
  },
  {
   "cell_type": "markdown",
   "metadata": {
    "id": "ghLUhCMGLA_j"
   },
   "source": [
    "##  Charger vos données dans une DataFrame Pandas\n",
    "Les options les plus courantes :\n",
    "- read_csv\n",
    "- read_excel"
   ]
  },
  {
   "cell_type": "code",
   "execution_count": null,
   "metadata": {
    "id": "W2RrJXlALA_j"
   },
   "outputs": [],
   "source": [
    "# chargement de la bibliothèque pandas\n",
    "import pandas as pd "
   ]
  },
  {
   "cell_type": "markdown",
   "metadata": {
    "id": "oNxQPJleLA_k"
   },
   "source": [
    "Importer l'ensemble de données avec read_csv"
   ]
  },
  {
   "cell_type": "code",
   "execution_count": null,
   "metadata": {
    "id": "WTCq57J4LA_k"
   },
   "outputs": [],
   "source": [
    "# Charger la base de données cons_veh.csv et l'affecter à la variable df\n",
    "df = pd.read_csv('cons_veh.csv')"
   ]
  },
  {
   "cell_type": "code",
   "execution_count": null,
   "metadata": {
    "colab": {
     "base_uri": "https://localhost:8080/"
    },
    "id": "oyHfDhDNLA_k",
    "outputId": "92952426-7497-4930-ff8d-3d89963feb21"
   },
   "outputs": [],
   "source": [
    "# Pour afficher le nombre de lignes et de colonnes\n",
    "df.shape"
   ]
  },
  {
   "cell_type": "markdown",
   "metadata": {
    "id": "idz3pbqQLA_l"
   },
   "source": [
    "Vérification des premiers éléments de DataFrame avec la méthode .head ()"
   ]
  },
  {
   "cell_type": "code",
   "execution_count": null,
   "metadata": {
    "colab": {
     "base_uri": "https://localhost:8080/",
     "height": 204
    },
    "id": "cMhVpBk7LA_l",
    "outputId": "1aca684b-0f24-43d5-829f-7f2f57ac8f59"
   },
   "outputs": [],
   "source": [
    "df.head() # la méthode head() affiche les 5 premières lignes par defaut"
   ]
  },
  {
   "cell_type": "code",
   "execution_count": null,
   "metadata": {
    "colab": {
     "base_uri": "https://localhost:8080/",
     "height": 359
    },
    "id": "1oR3f_r_LA_m",
    "outputId": "9df60a81-58f4-4258-b01a-13823b3e9b58"
   },
   "outputs": [],
   "source": [
    "#Pour voir moins ou plusieurs lignes, passer un entier, par exemple: head(10)\n",
    "df.head(10)"
   ]
  },
  {
   "cell_type": "markdown",
   "metadata": {
    "id": "8L10yiDjLA_m"
   },
   "source": [
    "Vérification des derniers éléments de DataFrame avec la méthode .tail ()"
   ]
  },
  {
   "cell_type": "code",
   "execution_count": null,
   "metadata": {
    "colab": {
     "base_uri": "https://localhost:8080/",
     "height": 359
    },
    "id": "9w0ntpQsLA_n",
    "outputId": "c84ec231-4d7e-4ccf-bda7-d07c46197232"
   },
   "outputs": [],
   "source": [
    "# tail() affiche les 5 dernières lignes. \n",
    "#Pour voir moins ou plusieurs lignes, passer un entier, par exemple: tail(3)\n",
    "df.tail(10)"
   ]
  },
  {
   "cell_type": "code",
   "execution_count": null,
   "metadata": {
    "colab": {
     "base_uri": "https://localhost:8080/"
    },
    "id": "4FLlmLk-LA_p",
    "outputId": "4d1dda7a-69c3-4cf1-8757-3998aee07e60"
   },
   "outputs": [],
   "source": [
    "# afficher les noms de colonnes \n",
    "df.columns"
   ]
  },
  {
   "cell_type": "code",
   "execution_count": null,
   "metadata": {
    "colab": {
     "base_uri": "https://localhost:8080/",
     "height": 734
    },
    "id": "Zcmh6Ss1LA_q",
    "outputId": "f0c5d3f4-4739-44d2-f1e2-cd108fe9dd2f"
   },
   "outputs": [],
   "source": [
    "pd.plotting.scatter_matrix(df,alpha=1, figsize=(15,12));"
   ]
  },
  {
   "cell_type": "markdown",
   "metadata": {
    "id": "N-l2nz7rSBsw"
   },
   "source": [
    "**Exercice**"
   ]
  },
  {
   "cell_type": "markdown",
   "metadata": {
    "id": "na7r61HRRhVE"
   },
   "source": [
    "- Créer une variable `puiss` qui contient les valeurs numérique de la colonne `puissance`en utilisant la commande `values`. Quel est le type de cette variable?.\n",
    "\n",
    "\n",
    "\n"
   ]
  },
  {
   "cell_type": "code",
   "execution_count": null,
   "metadata": {
    "colab": {
     "base_uri": "https://localhost:8080/"
    },
    "id": "I3U-m_eSQB2N",
    "outputId": "8643d019-9aa6-4763-f990-60cd87f398f6"
   },
   "outputs": [],
   "source": [
    "puiss = .............\n",
    "type(puiss)\n",
    "np.shape(puiss)\n"
   ]
  },
  {
   "cell_type": "markdown",
   "metadata": {
    "id": "RmBMerGYWWGd"
   },
   "source": [
    "- Transformer le vecteur obtenue en un vecteur colonne en utilisant la commande `reshape(-1,1)`."
   ]
  },
  {
   "cell_type": "code",
   "execution_count": null,
   "metadata": {},
   "outputs": [],
   "source": [
    "#puiss.reshape(-1,1)"
   ]
  },
  {
   "cell_type": "markdown",
   "metadata": {
    "id": "v5dh8TAOWuVq"
   },
   "source": [
    "**Exercice**"
   ]
  },
  {
   "cell_type": "markdown",
   "metadata": {
    "id": "aoIpTk9ZLA_q"
   },
   "source": [
    "Représenter l'évolution des valeurs de la variable consommation en fonction de la variable puissance.\n",
    "\n",
    "Représenter le modéle polynomial d'ordre p (p$\\in \\{1,2,3\\}$) de la régression au sens des moindres carrés de la variable consommation en fonction de la variable puissance"
   ]
  },
  {
   "cell_type": "code",
   "execution_count": null,
   "metadata": {},
   "outputs": [],
   "source": [
    "p=...\n",
    "puiss = df['puissance'].values\n",
    "puiss = puiss.reshape(-1,1)\n",
    "conso = df['consommation'].values\n",
    "conso = conso.reshape(-1,1)\n",
    "plt.figure(figsize=(15,10))\n",
    "t = ...............................\n",
    "plt.plot(........,........,'ro',t,.............,'b--', lw=3,markersize=8)\n",
    "plt.ylabel('Consommation',fontsize=15)\n",
    "plt.xlabel('Puissance',fontsize=15)\n",
    "plt.xticks(fontsize=10) \n",
    "plt.yticks(fontsize=10)\n",
    "plt.grid(True)"
   ]
  },
  {
   "cell_type": "markdown",
   "metadata": {},
   "source": [
    "###  Exercice (Asynchrone)\n",
    "\n",
    "Représenter l'évolution des valeurs de la variable consommation en fonction de la variable prix.\n",
    "\n",
    "Représenter le modéle polynomial d'ordre p (p$\\in \\{1,2,3\\}$) de la régression  au sens des moindres carrés de la variable consommation en fonction de la variable prix.\n"
   ]
  },
  {
   "cell_type": "code",
   "execution_count": null,
   "metadata": {},
   "outputs": [],
   "source": []
  },
  {
   "cell_type": "markdown",
   "metadata": {
    "id": "5yfzJ-CeLA_x"
   },
   "source": [
    "# Références  \n",
    "[1] [Kiusalaas, J. (2013). Numerical methods in engineering with Python 3. Cambridge university press.](https://books.google.tn/books?hl=fr&lr=&id=YlkgAwAAQBAJ&oi=fnd&pg=PP10&dq=numerical+methods+in+engineering+&ots=-42y60OrWf&sig=wxL2oISNUKKPlvgH4-tsYh1RK9o&redir_esc=y#v=onepage&q=numerical%20methods%20in%20engineering&f=false)  \n",
    "[2] [Numpy Package](https://numpy.org/devdocs/user/quickstart.html)  \n",
    "[3] [Mathplotlib Package](https://matplotlib.org/tutorials/index.html#introductory)  \n",
    "[4] [Jupyter markdowns](http://faccanoni.univ-tln.fr/user/enseignements/20182019/M62-CM1.pdf)\n",
    "\n",
    "[5] [Kiusalaas, J. (2013). Numerical methods in engineering with Python 3. Cambridge university press.](https://books.google.tn/books?hl=fr&lr=&id=YlkgAwAAQBAJ&oi=fnd&pg=PP10&dq=numerical+methods+in+engineering+&ots=-42y60OrWf&sig=wxL2oISNUKKPlvgH4-tsYh1RK9o&redir_esc=y#v=onepage&q=numerical%20methods%20in%20engineering&f=false)  \n",
    "[6] [Numpy Package](https://numpy.org/devdocs/user/quickstart.html)  \n",
    "[7] [Mathplotlib Package](https://matplotlib.org/tutorials/index.html#introductory)  \n",
    "[8] [Jupyter markdowns](http://faccanoni.univ-tln.fr/user/enseignements/20182019/M62-CM1.pdf)  \n",
    "[9] [Pandas Package](https://pandas.pydata.org/pandas-docs/stable/?v=20191015224639)"
   ]
  }
 ],
 "metadata": {
  "colab": {
   "collapsed_sections": [],
   "name": "Calcul_Scientifique_TP2_Approximation_polynomiale_corrigé_VF.ipynb",
   "provenance": []
  },
  "kernelspec": {
   "display_name": "Python 3",
   "language": "python",
   "name": "python3"
  },
  "language_info": {
   "codemirror_mode": {
    "name": "ipython",
    "version": 3
   },
   "file_extension": ".py",
   "mimetype": "text/x-python",
   "name": "python",
   "nbconvert_exporter": "python",
   "pygments_lexer": "ipython3",
   "version": "3.8.8"
  }
 },
 "nbformat": 4,
 "nbformat_minor": 1
}
